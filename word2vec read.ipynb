{
 "cells": [
  {
   "cell_type": "code",
   "execution_count": 21,
   "metadata": {},
   "outputs": [
    {
     "name": "stdout",
     "output_type": "stream",
     "text": [
      "Total time taken {0} 33.198275089263916\n"
     ]
    },
    {
     "data": {
      "text/plain": [
       "[0.047501,\n",
       " -0.360863,\n",
       " 0.015805,\n",
       " 0.279701,\n",
       " -0.044731,\n",
       " -0.197026,\n",
       " 0.407928,\n",
       " -0.193442,\n",
       " 0.879567,\n",
       " 0.135665,\n",
       " 0.46733,\n",
       " 0.753524,\n",
       " -0.374426,\n",
       " -0.013597,\n",
       " -0.518246,\n",
       " 0.81635,\n",
       " 0.097667,\n",
       " 0.232281,\n",
       " 0.569347,\n",
       " 0.518729,\n",
       " -0.407011,\n",
       " 0.373463,\n",
       " 0.210512,\n",
       " -0.178455,\n",
       " 0.730367,\n",
       " -0.591164,\n",
       " -0.25671,\n",
       " 0.221236,\n",
       " 0.05636,\n",
       " 0.168215,\n",
       " 0.442749,\n",
       " 0.604686,\n",
       " 0.149222,\n",
       " 0.143814,\n",
       " -0.723392,\n",
       " 0.310269,\n",
       " 0.75385,\n",
       " -0.261279,\n",
       " -0.137161,\n",
       " 0.295245,\n",
       " -0.017652,\n",
       " 0.741863,\n",
       " 0.263796,\n",
       " -0.21281,\n",
       " -0.003411,\n",
       " 0.323854,\n",
       " -0.214746,\n",
       " 0.152726,\n",
       " -0.316938,\n",
       " 0.214759,\n",
       " -0.306013,\n",
       " -0.419783,\n",
       " -0.161329,\n",
       " 0.162497,\n",
       " -0.133819,\n",
       " -0.456202,\n",
       " 0.218882,\n",
       " 0.095815,\n",
       " -0.248929,\n",
       " -0.341509,\n",
       " 0.347862,\n",
       " -0.064569,\n",
       " -0.571235,\n",
       " 0.265034,\n",
       " -0.839949,\n",
       " 0.344961,\n",
       " 0.756739,\n",
       " 0.089287,\n",
       " 0.287656,\n",
       " 0.011609,\n",
       " -0.220062,\n",
       " -0.552911,\n",
       " -0.004687,\n",
       " -0.844371,\n",
       " -1.166133,\n",
       " -0.177877,\n",
       " -0.59734,\n",
       " -0.171119,\n",
       " -0.105972,\n",
       " 0.130556,\n",
       " 0.775938,\n",
       " 0.303398,\n",
       " -0.300988,\n",
       " -0.217619,\n",
       " -0.137001,\n",
       " 0.642781,\n",
       " -0.073063,\n",
       " 0.078349,\n",
       " 0.918199,\n",
       " 0.023698,\n",
       " 0.26095,\n",
       " 0.064008,\n",
       " 0.643199,\n",
       " 0.363156,\n",
       " 0.313439,\n",
       " 0.080973,\n",
       " -0.479039,\n",
       " 0.373908,\n",
       " 0.960193,\n",
       " -0.471239]"
      ]
     },
     "execution_count": 21,
     "metadata": {},
     "output_type": "execute_result"
    }
   ],
   "source": [
    "import codecs\n",
    "import time\n",
    "#https://drive.google.com/file/d/0B23ji47zTOQNUXYzbUVhdDN2ZmM/view\n",
    "address = \"/home/sbmaruf/Downloads/sskip.100.vectors\"\n",
    "sentences = []\n",
    "sentence = []\n",
    "\n",
    "tic = time.time()\n",
    "Word2Vec={}\n",
    "itr = 0 ; \n",
    "for line in codecs.open(address, 'r', 'utf8'):\n",
    "    line = line.rstrip()\n",
    "    line = line.split()\n",
    "    itr = itr+1 \n",
    "    if( itr == 1 ):\n",
    "        continue  \n",
    "    \n",
    "    Word2Vec[line[0]] = []\n",
    "    for i in range(100):\n",
    "        Word2Vec[line[0]].append(float(line[i+1]))\n",
    "toc = time.time()\n",
    "\n"
   ]
  },
  {
   "cell_type": "code",
   "execution_count": 25,
   "metadata": {},
   "outputs": [
    {
     "data": {
      "text/plain": [
       "array([[ 0.,  0.],\n",
       "       [ 0.,  0.]])"
      ]
     },
     "execution_count": 25,
     "metadata": {},
     "output_type": "execute_result"
    }
   ],
   "source": [
    "import numpy as np\n",
    "np.zeros((2,2))\n"
   ]
  },
  {
   "cell_type": "code",
   "execution_count": 13,
   "metadata": {
    "collapsed": true
   },
   "outputs": [],
   "source": [
    "abs = \"asdbjfsd\"\n",
    "a[abs] = 6"
   ]
  },
  {
   "cell_type": "code",
   "execution_count": null,
   "metadata": {
    "collapsed": true
   },
   "outputs": [],
   "source": []
  }
 ],
 "metadata": {
  "kernelspec": {
   "display_name": "Python 3",
   "language": "python",
   "name": "python3"
  },
  "language_info": {
   "codemirror_mode": {
    "name": "ipython",
    "version": 3
   },
   "file_extension": ".py",
   "mimetype": "text/x-python",
   "name": "python",
   "nbconvert_exporter": "python",
   "pygments_lexer": "ipython3",
   "version": "3.6.2"
  }
 },
 "nbformat": 4,
 "nbformat_minor": 2
}
